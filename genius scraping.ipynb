{
 "cells": [
  {
   "cell_type": "code",
   "execution_count": 85,
   "metadata": {},
   "outputs": [],
   "source": [
    "import requests\n",
    "headers = {'Authorization': 'Bearer ' + 'kuPglkqGWhStX_PqQAPQJvruj2RgZrCEeqHPUHS6F6Gnxo3yiHplYCZ5H-GJoGJj'}\n",
    "\n",
    "def request_song_info(song_title, artist_name):\n",
    "    base_url = 'https://api.genius.com'\n",
    "    search_url = base_url + '/search'\n",
    "    data = {'q': song_title + ' ' + artist_name}\n",
    "    response = requests.get(search_url, data=data, headers=headers)\n",
    "\n",
    "    return response\n",
    "\n",
    "def request_artist_info(artist_name):\n",
    "    base_url = 'https://api.genius.com'\n",
    "    search_url = base_url + '/search'\n",
    "    data = {'q': artist_name}\n",
    "    response = requests.get(search_url, data=data, headers=headers)\n",
    "    \n",
    "    return response\n",
    "\n",
    "def get_songs_by_artist(artist_path):\n",
    "    base_url = 'https://api.genius.com'\n",
    "    url = base_url + artist_path + '/songs'\n",
    "    data = {'per_page': 50}\n",
    "    response = requests.get(url, data=data, headers=headers)\n",
    "    \n",
    "    return response\n"
   ]
  },
  {
   "cell_type": "code",
   "execution_count": 108,
   "metadata": {},
   "outputs": [],
   "source": [
    "def get_lyrics(artist_name):\n",
    "    artist_path = request_artist_info(artist_name).json()['response']['hits'][0]['result']['primary_artist']['api_path']\n",
    "    song_path = get_songs_by_artist(artist_path).json()['response']['songs'][0]['api_path']\n",
    "    page_url = \"http://genius.com\" + song_path\n",
    "    page = requests.get(page_url)\n",
    "    html = BeautifulSoup(page.text, \"html.parser\")\n",
    "    #remove script tags that they put in the middle of the lyrics\n",
    "    [h.extract() for h in html('script')]\n",
    "    #at least Genius is nice and has a tag called 'lyrics'!\n",
    "    lyrics = html.find(\"div\", class_=\"lyrics\").get_text() #updated css where the lyrics are based in HTML\n",
    "    lyrics = lyrics.replace('\\n', ' ')\n",
    "    return lyrics"
   ]
  },
  {
   "cell_type": "code",
   "execution_count": 109,
   "metadata": {},
   "outputs": [
    {
     "data": {
      "text/plain": [
       "'  [Chorus: Big Sean] As I look up to the sky Thought about 100 things to do before I die Hit all the girls I want and make sure my niggas right And my family live that life La-la-lahhh, as I look up to the sky Thought about 100 things to do before I die Wonderin\\' if I could live it all in one life Cause it could all end in one night La-la-lahhh La-la-lahhh La-la-lahhh, as I look up to the sky I thought about 100 things to do before I die  [Verse 1: Big Sean] Couple niggas on the hitlist and bitches on a different type Same shit different nights, till I live a different life \"Sean you looking tired\", damn homie that\\'s all? I\\'ve been stressin\\' so hard I\\'m surprised I ain\\'t going bald Haters praying I fall, move back in with my moms Take online classes and turn back into y\\'all, hatin\\' I guess they want your lights out when you the plug Niggas wanna catch you slippin\\' like they pulled the rug From where they move the drugs, Buddha love Niggas sleepin\\' with that mac and I ain\\'t talkin\\' \\'bout computer love Owe the wrong people you a price tag Now you pray to God hoping that you got a Christ tag Make it where I\\'m from, stay who I become Time to raise hell, Satan ain\\'t my son Taking elevators straight up out the slums to a penthouse view And have the fam there too, uhh  [Chorus: Big Sean] As I look up to the sky Thought about 100 things to do before I die Hit all the girls I want and make sure my niggas right And my family live that life La-la-lahhh, as I look up to the sky Thought about 100 things to do before I die Wonderin\\' if I could live it all in one life Cause it could all end in one night La-la-lahhh La-la-lahhh La-la-lahhh, as I look up to the sky I thought about 100 things to do before I die  [Bridge: James Fauntleroy] If I just stop breathing Even though I got all this muthafucking money Won\\'t keep my heart beating Just don\\'t wake me up Don\\'t wake me up You can\\'t catch me dreaming Bout all of this muthafucking money Cocaine rush, I\\'m speeding Cocaine rush  [Verse 2: Royce Da 5\\'9\"] I\\'m just a Detroit nigga, nothing extra about me I go extra hard at the first second you doubt me I strive for perfection at the same time, I\\'m accepting The fact that there\\'ll never be nothing perfect about me Shit, I\\'m just waiting on a win Come up with better hooks, the hoes\\'ll take it on the chin We are 6 Mile bred, that\\'s why you see our sick style yeah Crackhouse flow with a pit downstairs Momma happy at me, daddy happy at me The baddest chicks\\' y\\'all can imagine is chatty yapping at me 5 years ago I was in tears in the back of a paddy wagon Now I\\'m Cali swagging Huh, my nigga listen, I\\'m over the fame You number 1, I\\'m number 23, my mission is take over the game You rollin\\' with lames, we ain\\'t rolling the same I\\'m the best out in this muthafucker If I could get a check out of this muthafucka Big enough to set my kids up for life I could check out of this muthafucka with no regrets If you ain\\'t living your life for your kids, I ain\\'t giving yo ass no respect Sean I love you, my nigga, I\\'m out  [Chorus: Big Sean] As I look up to the sky Thought about 100 things to do before I die Hit all the girls I want and make sure my niggas right And my family live that life La-la-lahhh, as I look up to the sky Thought about 100 things to do before I die Wonderin\\' if I could live it all in one life Cause it could all end in one night La-la-lahhh La-la-lahhh La-la-lahhh, as I look up to the sky I thought about 100 things to do before I die  [Verse 3: Kendrick Lamar] I gotta break your fucking heart I gotta climb these fucking charts (I gotta climb \\'em) I gotta do something that\\'s innovative Creative just to create a legacy before death do us part I gotta spend one summer in Tijuana with Tia and Tia\\'s momma Breakfast in bed is head with plenty of Carne Asada I gotta, I gotta find me a wife to elope I got a, I got a fine, cause I ain\\'t wanna vote I promise, I know the history of those who died For the rights for me to survive but those who lied To the minority will make \\'em turn inside they grave I can easily pretend like y\\'all but that\\'s not me I gotta spread the truth even when the truth can hurt The youths need to know every detail about this Earth The devil controls it, so before you scrutinize how I feel Ask God if them polls important, the end is near  [Chorus: Big Sean] As I look up to the sky Thought about 100 things to do before I die Hit all the girls I want and make sure my niggas right And my family live that life La-la-lahhh, as I look up to the sky Thought about 100 things to do before I die Wonderin\\' if I could live it all in one life Cause it could all end in one night La-la-lahhh La-la-lahhh La-la-lahhh, as I look up to the sky I thought about 100 things to do before I die  '"
      ]
     },
     "execution_count": 109,
     "metadata": {},
     "output_type": "execute_result"
    }
   ],
   "source": [
    "get_lyrics('Kendrick')"
   ]
  },
  {
   "cell_type": "code",
   "execution_count": 104,
   "metadata": {},
   "outputs": [
    {
     "data": {
      "text/plain": [
       "'\\n\\nCzarny Peugeot 407 wnet przecina czarną dolinę\\nJadę szybko, myśli jeszcze szybciej, sto na godzinę\\nNie wiem jak za pieniądz z wierszy mam zbudować rodzinę\\nLecz nie chcę Fryderyka. Chcę otrzymać Nobla nim zginę\\nKowal swego losu, boskich Hefajstosów nie winię\\nI nie zamierzam czekać, aż tu każdy oszust przeminie\\nPrecyzyjność jakbym kroczył po linie, zapętl epkę\\nNa słuchawkach, no i obudź się przy mnie\\nKomplementy od raperów, w sumie nie wiem co myśleć\\nNa koncertach las rąk, strach w lesie tym niknie\\nSenny wokal z “Trójkąta” ciągle się niesie wybitnie\\nOdbija echem, ale bańka hajpu kiedyś mi pryśnie\\nProszę cię polej mi Solpadeiny\\nChoć dzisiaj wypiłem już cztery tabletki\\nTrójkąt warszawski otoczył salony\\nWięc jestem jak kowboj z westernu spaghetti\\nRazem z Rumakiem pędziemy uparcie\\nWięc słuchaj jak śpiewam od zera do setki\\nA potem przesłuchaj od setki do zera\\nBo o tym w tym chodzi, że trzeba zapętlić\\nĆwierć wieku minęło\\nPamięć poszarpana jak obraz kasety wideo\\nSłucham bicia twego serca przez plugawe stereo\\nJuż koniec przedstawienia. To była “Umowa o Dzieło”\\n\\n[outro]\\nT jak Tadeusz… A jak Alina… C jak Celina… O jak Olga…\\n[Tekst i adnotacje na Rap Genius Polska]\\n\\n'"
      ]
     },
     "execution_count": 104,
     "metadata": {},
     "output_type": "execute_result"
    }
   ],
   "source": [
    "a"
   ]
  }
 ],
 "metadata": {
  "kernelspec": {
   "display_name": "Python 3",
   "language": "python",
   "name": "python3"
  },
  "language_info": {
   "codemirror_mode": {
    "name": "ipython",
    "version": 3
   },
   "file_extension": ".py",
   "mimetype": "text/x-python",
   "name": "python",
   "nbconvert_exporter": "python",
   "pygments_lexer": "ipython3",
   "version": "3.6.8"
  }
 },
 "nbformat": 4,
 "nbformat_minor": 2
}
